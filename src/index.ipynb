{
 "cells": [
  {
   "cell_type": "markdown",
   "id": "b3dab0be",
   "metadata": {},
   "source": [
    "## Dependências"
   ]
  },
  {
   "cell_type": "code",
   "execution_count": 55,
   "id": "dfd4f1a3",
   "metadata": {},
   "outputs": [],
   "source": [
    "# !pip install selenium\n",
    "# !pip install webdriver-manager"
   ]
  },
  {
   "cell_type": "code",
   "execution_count": 56,
   "id": "1fc73e70",
   "metadata": {},
   "outputs": [],
   "source": [
    "from selenium import webdriver\n",
    "from webdriver_manager.chrome import ChromeDriverManager\n",
    "from selenium.webdriver.chrome.service import Service\n",
    "from time import sleep"
   ]
  },
  {
   "cell_type": "code",
   "execution_count": 57,
   "id": "555ff59c",
   "metadata": {},
   "outputs": [],
   "source": [
    "base_url = \"https://www.fundamentus.com.br/balancos.php?papel=\""
   ]
  },
  {
   "cell_type": "code",
   "execution_count": 58,
   "id": "a8645995",
   "metadata": {},
   "outputs": [],
   "source": [
    "# Identifica a versão do Google Chrome atual da máquina, e instala o driver referente\n",
    "service = Service(ChromeDriverManager().install())\n",
    "# Inicializa um novo navegador\n",
    "browser = webdriver.Chrome(service=service)"
   ]
  },
  {
   "cell_type": "markdown",
   "id": "cce28495",
   "metadata": {},
   "source": [
    "## Lista de empresas para baixar fundamentos"
   ]
  },
  {
   "cell_type": "code",
   "execution_count": null,
   "id": "0476cc57",
   "metadata": {},
   "outputs": [],
   "source": [
    "companies = [\"ABEV3\", \"PETR4\"]"
   ]
  },
  {
   "cell_type": "markdown",
   "id": "66e59ada",
   "metadata": {},
   "source": [
    "## Para cada empresa da lista, navega até a página e baixa o arquivo de fundamentos"
   ]
  },
  {
   "cell_type": "code",
   "execution_count": 60,
   "id": "1428bd50",
   "metadata": {
    "scrolled": true
   },
   "outputs": [],
   "source": [
    "for company in companies:\n",
    "    browser.get(f'{base_url}{company}&interface=mobile')\n",
    "    xPathBtnDownload = '//*[@id=\"form-planilha\"]/a'\n",
    "    browser.find_element('xpath', xPathBtnDownload).click()\n",
    "    sleep(3)\n",
    "browser.quit()"
   ]
  },
  {
   "cell_type": "code",
   "execution_count": null,
   "id": "a6fc727e",
   "metadata": {},
   "outputs": [],
   "source": []
  }
 ],
 "metadata": {
  "kernelspec": {
   "display_name": "Python 3 (ipykernel)",
   "language": "python",
   "name": "python3"
  },
  "language_info": {
   "codemirror_mode": {
    "name": "ipython",
    "version": 3
   },
   "file_extension": ".py",
   "mimetype": "text/x-python",
   "name": "python",
   "nbconvert_exporter": "python",
   "pygments_lexer": "ipython3",
   "version": "3.9.13"
  }
 },
 "nbformat": 4,
 "nbformat_minor": 5
}
